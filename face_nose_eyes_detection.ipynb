{
 "cells": [
  {
   "cell_type": "code",
   "execution_count": null,
   "metadata": {},
   "outputs": [],
   "source": [
    "import cv2 \n",
    "import numpy as np\n",
    "face =cv2.CascadeClassifier(cv2.data.haarcascades+\"haarcascade_frontalface_default.xml\")\n",
    "eye =cv2.CascadeClassifier(cv2.data.haarcascades+\"haarcascade_eye.xml\")\n",
    "nose=cv2.CascadeClassifier(\"C:\\\\Users\\\\LENOVO\\\\Desktop\\\\lco\\\\12.xml\")\n",
    "cap = cv2.VideoCapture(0)\n",
    "if not cap.isOpened:\n",
    "    raise IOError(\"cannot open\")\n",
    "while True:\n",
    "    _,frame = cap.read()\n",
    "    gray = cv2.cvtColor(frame,cv2.COLOR_BGR2GRAY)\n",
    "    faces =face.detectMultiScale(gray,1.3,5) \n",
    "    for (x,y,w,h) in faces:\n",
    "        cv2.circle(frame,(int(x+0.5*w),int(y+0.5*h)),int(0.3*(w+h)),(255,0,0),2)\n",
    "        roi_gray= gray[y:y+h,x:x+w]\n",
    "        roi_color=frame[y:y+h,x:x+w]\n",
    "        eyes= eye.detectMultiScale(roi_gray)\n",
    "        for (ex,ey,ew,eh) in eyes:\n",
    "            cv2.circle(roi_color,(int(ex+0.5*ew),int(ey+0.5*eh)),int(0.3*(ew+eh)),(255,0,0),2)\n",
    "        nose_rects = nose.detectMultiScale(gray, 1.3, 5)\n",
    "        for (nx,ny,nw,nh) in nose_rects:\n",
    "            cv2.rectangle(frame, (nx,ny), (nx+nw,ny+nh), (0,255,0), 1)\n",
    "    cv2.imshow(\"face dtection\",frame)\n",
    "    c=cv2.waitKey(1)\n",
    "    if c==27:\n",
    "        break\n",
    "cap.release()\n",
    "cv2.destroyAllWindows()"
   ]
  }
 ],
 "metadata": {
  "kernelspec": {
   "display_name": "Python 3",
   "language": "python",
   "name": "python3"
  },
  "language_info": {
   "codemirror_mode": {
    "name": "ipython",
    "version": 3
   },
   "file_extension": ".py",
   "mimetype": "text/x-python",
   "name": "python",
   "nbconvert_exporter": "python",
   "pygments_lexer": "ipython3",
   "version": "3.7.3"
  }
 },
 "nbformat": 4,
 "nbformat_minor": 2
}
